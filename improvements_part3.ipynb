{
 "cells": [
  {
   "cell_type": "markdown",
   "id": "af8522d5",
   "metadata": {},
   "source": [
    "Sveučilište u Zagrebu  \n",
    "Fakultet elektrotehnike i računarstva  \n",
    "  \n",
    "## Uvod u znanost o podacima"
   ]
  },
  {
   "cell_type": "markdown",
   "id": "d173be12",
   "metadata": {},
   "source": [
    "------------------------------\n",
    "\n",
    "### Projektni zadatak: Poboljšanje rezultata\n",
    "\n",
    "*Verzija: 1.0\n",
    "Zadnji put ažurirano: 7. 1. 2024.* \n",
    "\n",
    "Autori: **Stella Balić, Matija Pavlović, Fran Žužić**\n",
    "\n",
    "------------------------------"
   ]
  },
  {
   "cell_type": "markdown",
   "id": "638f75df",
   "metadata": {},
   "source": [
    "## Uvod"
   ]
  },
  {
   "cell_type": "code",
   "execution_count": 30,
   "id": "b7285728",
   "metadata": {},
   "outputs": [],
   "source": [
    "import numpy as np\n",
    "import pandas as pd\n",
    "import seaborn as sns\n",
    "import matplotlib.pyplot as plt\n",
    "import numpy as np\n",
    "from sklearn.linear_model import LogisticRegression\n",
    "from sklearn.svm import SVC\n",
    "from sklearn.model_selection import GridSearchCV\n",
    "from sklearn.neighbors import KNeighborsClassifier\n",
    "from sklearn.naive_bayes import GaussianNB\n",
    "from sklearn.tree import DecisionTreeClassifier\n",
    "from sklearn.ensemble import RandomForestClassifier\n",
    "from sklearn.model_selection import train_test_split\n",
    "from sklearn.metrics import accuracy_score, precision_score, recall_score, f1_score, log_loss, hinge_loss, classification_report, confusion_matrix, roc_curve, auc\n",
    "from sklearn.preprocessing import PolynomialFeatures, LabelEncoder\n",
    "\n",
    "import warnings\n",
    "warnings.filterwarnings('ignore')"
   ]
  },
  {
   "cell_type": "code",
   "execution_count": 3,
   "id": "8483b366",
   "metadata": {},
   "outputs": [
    {
     "name": "stdout",
     "output_type": "stream",
     "text": [
      "Skup podataka sadrži 569 primjera s 18 značajki\n"
     ]
    }
   ],
   "source": [
    "X = pd.read_csv(\"processed_data.csv\")\n",
    "print(\"Skup podataka sadrži {} primjera s {} značajki\".format(X.shape[0], X.shape[1]))"
   ]
  },
  {
   "cell_type": "code",
   "execution_count": 4,
   "id": "6af06e28",
   "metadata": {},
   "outputs": [
    {
     "data": {
      "text/html": [
       "<div>\n",
       "<style scoped>\n",
       "    .dataframe tbody tr th:only-of-type {\n",
       "        vertical-align: middle;\n",
       "    }\n",
       "\n",
       "    .dataframe tbody tr th {\n",
       "        vertical-align: top;\n",
       "    }\n",
       "\n",
       "    .dataframe thead th {\n",
       "        text-align: right;\n",
       "    }\n",
       "</style>\n",
       "<table border=\"1\" class=\"dataframe\">\n",
       "  <thead>\n",
       "    <tr style=\"text-align: right;\">\n",
       "      <th></th>\n",
       "      <th>diagnosis</th>\n",
       "      <th>radius_mean</th>\n",
       "      <th>texture_mean</th>\n",
       "      <th>smoothness_mean</th>\n",
       "      <th>concave points_mean</th>\n",
       "      <th>symmetry_mean</th>\n",
       "      <th>fractal_dimension_mean</th>\n",
       "      <th>texture_se</th>\n",
       "      <th>perimeter_se</th>\n",
       "      <th>smoothness_se</th>\n",
       "      <th>concave points_se</th>\n",
       "      <th>symmetry_se</th>\n",
       "      <th>fractal_dimension_se</th>\n",
       "      <th>smoothness_worst</th>\n",
       "      <th>compactness_worst</th>\n",
       "      <th>concavity_worst</th>\n",
       "      <th>symmetry_worst</th>\n",
       "      <th>fractal_dimension_worst</th>\n",
       "    </tr>\n",
       "  </thead>\n",
       "  <tbody>\n",
       "    <tr>\n",
       "      <th>0</th>\n",
       "      <td>M</td>\n",
       "      <td>17.99</td>\n",
       "      <td>10.38</td>\n",
       "      <td>0.11840</td>\n",
       "      <td>0.14710</td>\n",
       "      <td>0.2419</td>\n",
       "      <td>0.07871</td>\n",
       "      <td>0.9053</td>\n",
       "      <td>8.589</td>\n",
       "      <td>0.006399</td>\n",
       "      <td>0.01587</td>\n",
       "      <td>0.03003</td>\n",
       "      <td>0.006193</td>\n",
       "      <td>0.1622</td>\n",
       "      <td>0.6656</td>\n",
       "      <td>0.7119</td>\n",
       "      <td>0.4601</td>\n",
       "      <td>0.11890</td>\n",
       "    </tr>\n",
       "    <tr>\n",
       "      <th>1</th>\n",
       "      <td>M</td>\n",
       "      <td>20.57</td>\n",
       "      <td>17.77</td>\n",
       "      <td>0.08474</td>\n",
       "      <td>0.07017</td>\n",
       "      <td>0.1812</td>\n",
       "      <td>0.05667</td>\n",
       "      <td>0.7339</td>\n",
       "      <td>3.398</td>\n",
       "      <td>0.005225</td>\n",
       "      <td>0.01340</td>\n",
       "      <td>0.01389</td>\n",
       "      <td>0.003532</td>\n",
       "      <td>0.1238</td>\n",
       "      <td>0.1866</td>\n",
       "      <td>0.2416</td>\n",
       "      <td>0.2750</td>\n",
       "      <td>0.08902</td>\n",
       "    </tr>\n",
       "    <tr>\n",
       "      <th>2</th>\n",
       "      <td>M</td>\n",
       "      <td>19.69</td>\n",
       "      <td>21.25</td>\n",
       "      <td>0.10960</td>\n",
       "      <td>0.12790</td>\n",
       "      <td>0.2069</td>\n",
       "      <td>0.05999</td>\n",
       "      <td>0.7869</td>\n",
       "      <td>4.585</td>\n",
       "      <td>0.006150</td>\n",
       "      <td>0.02058</td>\n",
       "      <td>0.02250</td>\n",
       "      <td>0.004571</td>\n",
       "      <td>0.1444</td>\n",
       "      <td>0.4245</td>\n",
       "      <td>0.4504</td>\n",
       "      <td>0.3613</td>\n",
       "      <td>0.08758</td>\n",
       "    </tr>\n",
       "    <tr>\n",
       "      <th>3</th>\n",
       "      <td>M</td>\n",
       "      <td>11.42</td>\n",
       "      <td>20.38</td>\n",
       "      <td>0.14250</td>\n",
       "      <td>0.10520</td>\n",
       "      <td>0.2597</td>\n",
       "      <td>0.09744</td>\n",
       "      <td>1.1560</td>\n",
       "      <td>3.445</td>\n",
       "      <td>0.009110</td>\n",
       "      <td>0.01867</td>\n",
       "      <td>0.05963</td>\n",
       "      <td>0.009208</td>\n",
       "      <td>0.2098</td>\n",
       "      <td>0.8663</td>\n",
       "      <td>0.6869</td>\n",
       "      <td>0.6638</td>\n",
       "      <td>0.17300</td>\n",
       "    </tr>\n",
       "    <tr>\n",
       "      <th>4</th>\n",
       "      <td>M</td>\n",
       "      <td>20.29</td>\n",
       "      <td>14.34</td>\n",
       "      <td>0.10030</td>\n",
       "      <td>0.10430</td>\n",
       "      <td>0.1809</td>\n",
       "      <td>0.05883</td>\n",
       "      <td>0.7813</td>\n",
       "      <td>5.438</td>\n",
       "      <td>0.011490</td>\n",
       "      <td>0.01885</td>\n",
       "      <td>0.01756</td>\n",
       "      <td>0.005115</td>\n",
       "      <td>0.1374</td>\n",
       "      <td>0.2050</td>\n",
       "      <td>0.4000</td>\n",
       "      <td>0.2364</td>\n",
       "      <td>0.07678</td>\n",
       "    </tr>\n",
       "  </tbody>\n",
       "</table>\n",
       "</div>"
      ],
      "text/plain": [
       "  diagnosis  radius_mean  texture_mean  smoothness_mean  concave points_mean  \\\n",
       "0         M        17.99         10.38          0.11840              0.14710   \n",
       "1         M        20.57         17.77          0.08474              0.07017   \n",
       "2         M        19.69         21.25          0.10960              0.12790   \n",
       "3         M        11.42         20.38          0.14250              0.10520   \n",
       "4         M        20.29         14.34          0.10030              0.10430   \n",
       "\n",
       "   symmetry_mean  fractal_dimension_mean  texture_se  perimeter_se  \\\n",
       "0         0.2419                 0.07871      0.9053         8.589   \n",
       "1         0.1812                 0.05667      0.7339         3.398   \n",
       "2         0.2069                 0.05999      0.7869         4.585   \n",
       "3         0.2597                 0.09744      1.1560         3.445   \n",
       "4         0.1809                 0.05883      0.7813         5.438   \n",
       "\n",
       "   smoothness_se  concave points_se  symmetry_se  fractal_dimension_se  \\\n",
       "0       0.006399            0.01587      0.03003              0.006193   \n",
       "1       0.005225            0.01340      0.01389              0.003532   \n",
       "2       0.006150            0.02058      0.02250              0.004571   \n",
       "3       0.009110            0.01867      0.05963              0.009208   \n",
       "4       0.011490            0.01885      0.01756              0.005115   \n",
       "\n",
       "   smoothness_worst  compactness_worst  concavity_worst  symmetry_worst  \\\n",
       "0            0.1622             0.6656           0.7119          0.4601   \n",
       "1            0.1238             0.1866           0.2416          0.2750   \n",
       "2            0.1444             0.4245           0.4504          0.3613   \n",
       "3            0.2098             0.8663           0.6869          0.6638   \n",
       "4            0.1374             0.2050           0.4000          0.2364   \n",
       "\n",
       "   fractal_dimension_worst  \n",
       "0                  0.11890  \n",
       "1                  0.08902  \n",
       "2                  0.08758  \n",
       "3                  0.17300  \n",
       "4                  0.07678  "
      ]
     },
     "execution_count": 4,
     "metadata": {},
     "output_type": "execute_result"
    }
   ],
   "source": [
    "X.head()"
   ]
  },
  {
   "cell_type": "markdown",
   "id": "c70dfcd4",
   "metadata": {},
   "source": [
    "Izvlačimo oznake klasa (M i B) iz prvog stupca i pohranjujemo ih u vektor y."
   ]
  },
  {
   "cell_type": "code",
   "execution_count": 5,
   "id": "f0e3e9e0",
   "metadata": {},
   "outputs": [],
   "source": [
    "y = X.iloc[:, 0]\n",
    "X = X.drop(X.columns[0], axis=1)\n",
    "\n",
    "# pretvaramo podatke u numpy array\n",
    "X = X.values\n",
    "y = y.values.reshape(-1, 1)"
   ]
  },
  {
   "cell_type": "markdown",
   "id": "66786ee0",
   "metadata": {},
   "source": [
    "Konačno, dijelimo podatke na skup za treniranje i skup za testiranje u omjeru 75/25 koristeći funkciju train_test_split."
   ]
  },
  {
   "cell_type": "code",
   "execution_count": 6,
   "id": "06a64208",
   "metadata": {},
   "outputs": [],
   "source": [
    "X_train, X_test, y_train, y_test = train_test_split(X, y, train_size=0.75,  test_size=0.25)"
   ]
  },
  {
   "cell_type": "markdown",
   "id": "f22a08a4",
   "metadata": {},
   "source": [
    "## Stroj potpornih vektora\n",
    "\n",
    "### Optimiranje pretraživanjem po rešetci\n",
    "\n",
    "U prethodnoj bilježnici razmotrili smo tri različita modela stroja potpornih vektora koji koriste jezgreni trik. Razmotrili smo linearnu, polinomijalnu jezgru stupnja 3 i RBF jezgru (Gaussovu jezgru). Optimalni model smo odabrali na temelju najveće točnosti tj. najmanjeg očekivanja gubitka zglobnice. Vrijednosti hiperparametara ostavili smo na pretpostavljenim vrijednostima koje implementiraju jezgre.\n",
    "\n",
    "U ovom poglavlju optimirat ćemo upravo te parametre. To su parametar regularizacije **C** i parametar **gamma** u slučaju RBF jezgre koji regulira sličnost primjera."
   ]
  },
  {
   "cell_type": "code",
   "execution_count": 32,
   "id": "f3c1ccbf",
   "metadata": {},
   "outputs": [
    {
     "name": "stdout",
     "output_type": "stream",
     "text": [
      "Fitting 5 folds for each of 108 candidates, totalling 540 fits\n",
      "Best params: {'C': 0.001, 'gamma': 0.5, 'kernel': 'poly'}\n"
     ]
    }
   ],
   "source": [
    "param_grid = {\"C\": [0.001, 0.01, 0.1, 0.5, 1, 10], \n",
    "              \"gamma\": [1, 0.75, 0.5, 0.25, 0.1, 0.01], \n",
    "              \"kernel\": ['rbf', 'poly', 'linear']} \n",
    "\n",
    "grid = GridSearchCV(SVC(), param_grid, refit=True, verbose=1, cv=5)\n",
    "grid.fit(X_train, y_train)\n",
    "\n",
    "best_params = grid.best_params_\n",
    "print(f\"Best params: {best_params}\")\n",
    "\n",
    "optimal_SVC = grid.best_estimator_\n",
    "#svm_clf = SVC(**best_params)\n",
    "#svm_clf.fit(X_train, y_train)\n",
    "y_prediction_test = optimal_SVC.predict(X_test)\n",
    "loss = hinge_loss(y_test, optimal_SVC.decision_function(X_test))\n",
    "acc = accuracy_score(y_test, y_prediction_test)"
   ]
  },
  {
   "cell_type": "code",
   "execution_count": 33,
   "id": "7b05cc85",
   "metadata": {},
   "outputs": [
    {
     "data": {
      "text/plain": [
       "0.965034965034965"
      ]
     },
     "execution_count": 33,
     "metadata": {},
     "output_type": "execute_result"
    }
   ],
   "source": [
    "acc"
   ]
  },
  {
   "cell_type": "markdown",
   "id": "651f147f",
   "metadata": {},
   "source": [
    "## Klasifikacija neuronskom mrežom"
   ]
  },
  {
   "cell_type": "markdown",
   "id": "5b1bb614",
   "metadata": {},
   "source": [
    "Neuronske mreže pokazale su se kao dobra supsitucija klasifikacijskih algoritama. U ovom poglavlju razmatramo umjetnu neuronsku mrežu s 5 slojeva. Aktivacijske funkcije ulaznog i skrivenih slojeva je ReLU, a izlanog sloja sigmoida. Funkcija gubitka koju koristimo je gubitak unakrsne entropije za binarnu klasifikaciju. Model treniramo kroz 1000 iteracija. Problem na koji možemo naići je pretreniranost s obzirom da računalna složenost nije problem za vrstu ulaza skupa podataka. Pretreniranost se spriječava redukcijom broja slojeva ili za veliki broj slojeva uvođenjem dropout sloja. U ovom primjeru koristimo što jednostavniju arhitekturu."
   ]
  },
  {
   "cell_type": "code",
   "execution_count": 26,
   "id": "aae3d2f1",
   "metadata": {},
   "outputs": [
    {
     "name": "stdout",
     "output_type": "stream",
     "text": [
      "Epoch [100/1000], Loss: 0.5765, Accuracy: 0.7911\n",
      "Epoch [200/1000], Loss: 0.2616, Accuracy: 0.8873\n",
      "Epoch [300/1000], Loss: 0.1797, Accuracy: 0.9319\n",
      "Epoch [400/1000], Loss: 0.1486, Accuracy: 0.9413\n",
      "Epoch [500/1000], Loss: 0.1297, Accuracy: 0.9507\n",
      "Epoch [600/1000], Loss: 0.1146, Accuracy: 0.9624\n",
      "Epoch [700/1000], Loss: 0.1020, Accuracy: 0.9695\n",
      "Epoch [800/1000], Loss: 0.0925, Accuracy: 0.9742\n",
      "Epoch [900/1000], Loss: 0.0855, Accuracy: 0.9765\n",
      "Epoch [1000/1000], Loss: 0.0803, Accuracy: 0.9789\n"
     ]
    }
   ],
   "source": [
    "import torch\n",
    "import torch.nn as nn\n",
    "import torch.optim as optim\n",
    "\n",
    "#torch.manual_seed(0)\n",
    "\n",
    "input_size = X_train.shape[1]\n",
    "\n",
    "class TumorNet(nn.Module):\n",
    "    def __init__(self):\n",
    "        super(TumorNet, self).__init__()\n",
    "        self.layer1 = nn.Linear(in_features=input_size, out_features=10)\n",
    "        self.layer2 = nn.Linear(in_features=10, out_features=10) \n",
    "        self.layer3 = nn.Linear(in_features=10, out_features=8)\n",
    "        self.layer4 = nn.Linear(in_features=8, out_features=8)\n",
    "        #self.layer5 = nn.Linear(in_features=8, out_features=6)\n",
    "        self.output_layer = nn.Linear(in_features=8, out_features=1)\n",
    "        self.activation = nn.ReLU()\n",
    "        self.sigmoid = nn.Sigmoid()\n",
    "\n",
    "    def forward(self, x):\n",
    "        x = self.activation(self.layer1(x))\n",
    "        x = self.activation(self.layer2(x))\n",
    "        x = self.activation(self.layer3(x))\n",
    "        x = self.activation(self.layer4(x))\n",
    "        #x = self.activation(self.layer5(x))\n",
    "        x = self.sigmoid(self.output_layer(x))\n",
    "        return x\n",
    "\n",
    "# Inicijalizacija modela, funkcije gubitka i optimizatora \n",
    "model = TumorNet()\n",
    "criterion = nn.BCELoss()\n",
    "optimizer = optim.Adam(model.parameters())\n",
    "\n",
    "# Pretvaranje podataka u tenzore\n",
    "# skup za treniranje\n",
    "X_train_tensor = torch.tensor(X_train, dtype=torch.float32)\n",
    "y_train_encoded = np.where(y_train == \"M\", 1, 0)\n",
    "y_train_tensor = torch.tensor(y_train_encoded, dtype=torch.float32)\n",
    "# skup za testiranje\n",
    "X_test_tensor = torch.tensor(X_test, dtype=torch.float32)\n",
    "y_test_encoded = np.where(y_test == \"M\", 1, 0)\n",
    "y_test_tensor = torch.tensor(y_test_encoded, dtype=torch.float32)\n",
    "\n",
    "\n",
    "accuracies_train = []\n",
    "accuracies_test = []\n",
    "\n",
    "for iter in range(1000):\n",
    "    optimizer.zero_grad()\n",
    "    output = model(X_train_tensor)\n",
    "    loss = criterion(output, y_train_tensor.view(-1, 1))\n",
    "    loss.backward()\n",
    "    optimizer.step()\n",
    "    \n",
    "    if (iter + 1) % 10 == 0:\n",
    "        train_acc = ((output >= 0.5).float() == y_train_tensor.view(-1, 1)).float().mean()\n",
    "        accuracies_train.append(train_acc)\n",
    "\n",
    "        test_output = model(X_test_tensor)\n",
    "        test_acc = ((test_output >= 0.5).float() == y_test_tensor.view(-1, 1)).float().mean()\n",
    "        accuracies_test.append(test_acc)\n",
    "\n",
    "    if (iter + 1) % 100 == 0:\n",
    "        print(f'Epoch [{iter+1}/1000], Loss: {loss.item():.4f}, Accuracy: {train_acc.item():.4f}')"
   ]
  },
  {
   "cell_type": "code",
   "execution_count": 27,
   "id": "b158f70e",
   "metadata": {},
   "outputs": [
    {
     "name": "stdout",
     "output_type": "stream",
     "text": [
      "TumorNet results on test data:\n",
      "Loss: 0.0986\n",
      "Accuracy: 0.9720\n"
     ]
    }
   ],
   "source": [
    "# Evaluacija modela na testnom skupu podataka\n",
    "with torch.no_grad():\n",
    "    model.eval()\n",
    "    test_output = model(X_test_tensor)\n",
    "    test_loss = criterion(test_output, y_test_tensor.view(-1, 1))\n",
    "    test_acc = ((test_output >= 0.5).float() == y_test_tensor.view(-1, 1)).float().mean()\n",
    "\n",
    "print(\"TumorNet results on test data:\")\n",
    "print(f\"Loss: {test_loss.item():.4f}\\nAccuracy: {test_acc.item():.4f}\")"
   ]
  },
  {
   "cell_type": "markdown",
   "id": "18845ed5",
   "metadata": {},
   "source": [
    "Na grafu je prikazana točnost mreže na skupu za treniranje i testiranje u ovisnosti o iteraciji. Točnost je prikazana svaku desetu iteraciju rdi čitljivosti."
   ]
  },
  {
   "cell_type": "code",
   "execution_count": 28,
   "id": "d9fb3b05",
   "metadata": {},
   "outputs": [
    {
     "data": {
      "image/png": "[encoded data removed]",
      "text/plain": [
       "<Figure size 640x480 with 1 Axes>"
      ]
     },
     "metadata": {},
     "output_type": "display_data"
    }
   ],
   "source": [
    "plt.plot(np.arange(0, 1000, 10, dtype=int), accuracies_train, label=\"Train accuracy\")\n",
    "plt.plot(np.arange(0, 1000, 10, dtype=int), accuracies_test, label=\"Test accuracy\")\n",
    "plt.xlabel(\"iteration\")\n",
    "plt.ylabel(\"accuracy\")\n",
    "plt.title(\"Cross-validation results\")\n",
    "plt.legend()\n",
    "plt.show()"
   ]
  },
  {
   "cell_type": "code",
   "execution_count": null,
   "id": "d94f2021",
   "metadata": {},
   "outputs": [],
   "source": []
  }
 ],
 "metadata": {
  "kernelspec": {
   "display_name": "Python 3 (ipykernel)",
   "language": "python",
   "name": "python3"
  },
  "language_info": {
   "codemirror_mode": {
    "name": "ipython",
    "version": 3
   },
   "file_extension": ".py",
   "mimetype": "text/x-python",
   "name": "python",
   "nbconvert_exporter": "python",
   "pygments_lexer": "ipython3",
   "version": "3.8.10"
  }
 },
 "nbformat": 4,
 "nbformat_minor": 5
}
